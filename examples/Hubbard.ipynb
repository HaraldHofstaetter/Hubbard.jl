{
 "cells": [
  {
   "cell_type": "code",
   "execution_count": 1,
   "metadata": {
    "collapsed": false
   },
   "outputs": [],
   "source": [
    "using Hubbard"
   ]
  },
  {
   "cell_type": "code",
   "execution_count": 3,
   "metadata": {
    "collapsed": false
   },
   "outputs": [
    {
     "name": "stdout",
     "output_type": "stream",
     "text": [
      "  1.426456 seconds (10.90 M allocations: 587.123 MiB, 13.15% gc time)\n"
     ]
    }
   ],
   "source": [
    "N_s=10\n",
    "n_up=div(N_s,2)\n",
    "n_down=div(N_s,2)\n",
    "U = 4.0\n",
    "v=diagm(ones(N_s-1),1)+diagm(ones(N_s-1),-1)\n",
    "#v[1,N_s] = 1.0 # periodic boundary conditions\n",
    "#v[N_s,1] = 1.0\n",
    "@time  H = hubbard(N_s, n_up, n_down, v, U);"
   ]
  },
  {
   "cell_type": "code",
   "execution_count": 11,
   "metadata": {
    "collapsed": false
   },
   "outputs": [
    {
     "name": "stdout",
     "output_type": "stream",
     "text": [
      "  1.408681 seconds (4.46 k allocations: 666.819 MiB, 1.34% gc time)\n"
     ]
    },
    {
     "data": {
      "text/plain": [
       "(-5.380618820414512, [2.17612e-14, -2.7616e-13, 1.62811e-12, -5.49231e-12, 1.07335e-11, -1.03655e-11, 1.62811e-12, -1.25145e-11, 4.66707e-11, -9.58156e-11  …  -9.58156e-11, 4.66707e-11, -1.25145e-11, 1.62811e-12, -1.03655e-11, 1.07335e-11, -5.49231e-12, 1.62811e-12, -2.76159e-13, 2.17584e-14])"
      ]
     },
     "execution_count": 11,
     "metadata": {},
     "output_type": "execute_result"
    }
   ],
   "source": [
    "@time lambda, g = groundstate(H)"
   ]
  },
  {
   "cell_type": "code",
   "execution_count": 12,
   "metadata": {
    "collapsed": false
   },
   "outputs": [],
   "source": [
    "include(\"time_stepper.jl\")"
   ]
  },
  {
   "cell_type": "code",
   "execution_count": 13,
   "metadata": {
    "collapsed": false
   },
   "outputs": [
    {
     "data": {
      "text/plain": [
       "(-5.380618820414516, 0.093724721674855)"
      ]
     },
     "execution_count": 13,
     "metadata": {},
     "output_type": "execute_result"
    }
   ],
   "source": [
    "E0, d0 = (energy(H, g), sum(double_occupation(H, g))/N_s)"
   ]
  },
  {
   "cell_type": "code",
   "execution_count": 14,
   "metadata": {
    "collapsed": false
   },
   "outputs": [
    {
     "name": "stdout",
     "output_type": "stream",
     "text": [
      "  0.1   8.8818e-15   1.3878e-17\n",
      "  0.2   4.4409e-15   1.3878e-17\n",
      "  0.3   7.1054e-15   4.1633e-17\n",
      "  0.4   1.4211e-14   1.3878e-17\n",
      "  0.5   6.2172e-15   1.3878e-17\n",
      "  0.6   1.3323e-14   1.3878e-17\n",
      "  0.7   4.4409e-15   2.7756e-17\n",
      "  0.8   8.8818e-16   1.3878e-17\n",
      "  0.9   1.1546e-14   1.3878e-17\n",
      "  1.0   7.9936e-15   1.3878e-17\n",
      "  1.1   1.7764e-15   1.3878e-17\n",
      "  1.2   1.1546e-14   1.3878e-17\n",
      "  1.3   1.7764e-15   1.3878e-17\n",
      "  1.4   1.3323e-14   1.3878e-17\n",
      "  1.5   1.1546e-14   1.3878e-17\n",
      "  1.6   8.8818e-15   1.3878e-17\n",
      "  1.7   7.9936e-15   1.3878e-17\n",
      "  1.8   1.0658e-14   1.3878e-17\n",
      "  1.9   5.3291e-15   1.3878e-17\n",
      "  2.0   2.6645e-14   1.3878e-17\n"
     ]
    }
   ],
   "source": [
    "psi = g+0.0im # initial value: groundstate 'complexified'\n",
    "f(t) = 1.0+0.0im    # no time dependence\n",
    "t0 = 0.0\n",
    "tend = 2\n",
    "dt = 0.1\n",
    "\n",
    "for t in EquidistantTimeStepper(H, f, psi, t0, tend, dt, scheme=CF4)\n",
    "    E = energy(H, psi)\n",
    "    d = sum(double_occupation(H, psi))/N_s\n",
    "    @printf(\"%5.1f %12.4e %12.4e\\n\", t, abs(E-E0), abs(d-d0))\n",
    "end"
   ]
  }
 ],
 "metadata": {
  "kernelspec": {
   "display_name": "Julia 0.6.1",
   "language": "julia",
   "name": "julia-0.6"
  },
  "language_info": {
   "file_extension": ".jl",
   "mimetype": "application/julia",
   "name": "julia",
   "version": "0.6.1"
  }
 },
 "nbformat": 4,
 "nbformat_minor": 0
}
